{
 "metadata": {
  "language_info": {
   "codemirror_mode": {
    "name": "ipython",
    "version": 3
   },
   "file_extension": ".py",
   "mimetype": "text/x-python",
   "name": "python",
   "nbconvert_exporter": "python",
   "pygments_lexer": "ipython3",
   "version": "3.9.0-final"
  },
  "orig_nbformat": 2,
  "kernelspec": {
   "name": "python3",
   "display_name": "Python 3.9.0 64-bit",
   "metadata": {
    "interpreter": {
     "hash": "3c67ec52ed15e0f818407aaecc706382b0f2c1ca12664c8d998db1b3d5d17ce4"
    }
   }
  }
 },
 "nbformat": 4,
 "nbformat_minor": 2,
 "cells": [
  {
   "cell_type": "code",
   "execution_count": 3,
   "metadata": {},
   "outputs": [],
   "source": [
    "import numpy as np"
   ]
  },
  {
   "cell_type": "code",
   "execution_count": 4,
   "metadata": {},
   "outputs": [],
   "source": [
    "class MLP(object):\n",
    "    def __init__(self):\n",
    "        self.l1 = Layer()\n",
    "        self.l2 = Layer()\n",
    "    \n",
    "    def forward(self):\n",
    "        h = self.l1(x) # layer call method\n",
    "        y = self.l2(h)\n",
    "        return y\n",
    "\n",
    "class Layer(object):\n",
    "    def __init__(self,input_dim,output_dim,activation,dactivation):\n",
    "        self.W = np.random.normal(size=(input_dim,output_dim))\n",
    "        self.b = np.zeros(output_dim)\n",
    "\n",
    "        self.activation = activation\n",
    "        self.dactivation = dactivation\n",
    "\n",
    "    def __call__(self,x):\n",
    "        return self.forward(x)\n",
    "    \n",
    "    def forward(self,x):\n",
    "        self._input = x\n",
    "        self._pre_activation = np.matmul(x,self.W) + self.b\n",
    "        return self.activation(self._pre_activation)\n",
    "    \n",
    "    def backward(self,delta,W):\n",
    "        delta = self.dactivation(self._pre_activation) * np.matmul(delta,W.T)\n",
    "        #なぜにW.T ?\n",
    "        return delta\n",
    "    \n",
    "    def compute_gradients(self,delta):\n",
    "        dw = np.matmul(self._input.T,delta)"
   ]
  },
  {
   "cell_type": "code",
   "execution_count": 7,
   "metadata": {},
   "outputs": [],
   "source": [
    "obj = np.random.normal(size=(3,4))"
   ]
  },
  {
   "cell_type": "code",
   "execution_count": null,
   "metadata": {},
   "outputs": [],
   "source": []
  }
 ]
}