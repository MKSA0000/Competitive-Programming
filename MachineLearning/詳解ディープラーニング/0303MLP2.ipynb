{
 "metadata": {
  "language_info": {
   "codemirror_mode": {
    "name": "ipython",
    "version": 3
   },
   "file_extension": ".py",
   "mimetype": "text/x-python",
   "name": "python",
   "nbconvert_exporter": "python",
   "pygments_lexer": "ipython3",
   "version": "3.9.0-final"
  },
  "orig_nbformat": 2,
  "kernelspec": {
   "name": "python3",
   "display_name": "Python 3.9.0 64-bit",
   "metadata": {
    "interpreter": {
     "hash": "3c67ec52ed15e0f818407aaecc706382b0f2c1ca12664c8d998db1b3d5d17ce4"
    }
   }
  }
 },
 "nbformat": 4,
 "nbformat_minor": 2,
 "cells": [
  {
   "cell_type": "code",
   "execution_count": 1,
   "metadata": {},
   "outputs": [],
   "source": [
    "import tensorflow as tf\n",
    "import numpy as np\n",
    "#from sklearn import datasets\n",
    "from sklearn.utils import shuffle\n",
    "from sklearn.model_selection import train_test_split\n",
    "from tensorflow.keras.models import Model\n",
    "from tensorflow.keras.layers import Dense\n",
    "from tensorflow.keras import optimizers\n",
    "from tensorflow.keras import losses\n",
    "from tensorflow.keras import metrics\n",
    "from tensorflow.keras import datasets"
   ]
  },
  {
   "cell_type": "code",
   "execution_count": 2,
   "metadata": {},
   "outputs": [],
   "source": [
    "mnist = datasets.mnist\n",
    "(x_train,t_train),(x_test,t_test) = mnist.load_data()"
   ]
  },
  {
   "cell_type": "code",
   "execution_count": 3,
   "metadata": {},
   "outputs": [],
   "source": [
    "import matplotlib.pyplot as plt\n",
    "import seaborn as sns"
   ]
  },
  {
   "cell_type": "code",
   "execution_count": 4,
   "metadata": {},
   "outputs": [],
   "source": [
    "x_train = (x_train.reshape(-1,784) / 255).astype(np.float32)\n",
    "x_test = (x_test.reshape(-1,784) / 255).astype(np.float32)\n",
    "t_train = np.eye(10)[t_train].astype(np.float32)\n",
    "t_test = np.eye(10)[t_test].astype(np.float32)"
   ]
  },
  {
   "cell_type": "code",
   "execution_count": 17,
   "metadata": {},
   "outputs": [
    {
     "output_type": "stream",
     "name": "stdout",
     "text": [
      "Epoch 1/30\n",
      "600/600 [==============================] - 3s 3ms/step - loss: 0.4680 - accuracy: 0.8592\n",
      "Epoch 2/30\n",
      "600/600 [==============================] - 2s 4ms/step - loss: 0.0928 - accuracy: 0.9715\n",
      "Epoch 3/30\n",
      "600/600 [==============================] - 2s 3ms/step - loss: 0.0604 - accuracy: 0.9802\n",
      "Epoch 4/30\n",
      "600/600 [==============================] - 2s 3ms/step - loss: 0.0447 - accuracy: 0.9856\n",
      "Epoch 5/30\n",
      "600/600 [==============================] - 2s 3ms/step - loss: 0.0329 - accuracy: 0.9895\n",
      "Epoch 6/30\n",
      "600/600 [==============================] - 2s 4ms/step - loss: 0.0275 - accuracy: 0.9907\n",
      "Epoch 7/30\n",
      "600/600 [==============================] - 2s 3ms/step - loss: 0.0247 - accuracy: 0.9921\n",
      "Epoch 8/30\n",
      "600/600 [==============================] - 2s 3ms/step - loss: 0.0213 - accuracy: 0.9932\n",
      "Epoch 9/30\n",
      "600/600 [==============================] - 2s 3ms/step - loss: 0.0198 - accuracy: 0.9937\n",
      "Epoch 10/30\n",
      "600/600 [==============================] - 2s 4ms/step - loss: 0.0180 - accuracy: 0.9937\n",
      "Epoch 11/30\n",
      "600/600 [==============================] - 2s 3ms/step - loss: 0.0157 - accuracy: 0.9947\n",
      "Epoch 12/30\n",
      "600/600 [==============================] - 2s 4ms/step - loss: 0.0148 - accuracy: 0.9952\n",
      "Epoch 13/30\n",
      "600/600 [==============================] - 2s 4ms/step - loss: 0.0137 - accuracy: 0.9954\n",
      "Epoch 14/30\n",
      "600/600 [==============================] - 2s 4ms/step - loss: 0.0101 - accuracy: 0.9965\n",
      "Epoch 15/30\n",
      "600/600 [==============================] - 2s 4ms/step - loss: 0.0084 - accuracy: 0.9973\n",
      "Epoch 16/30\n",
      "600/600 [==============================] - 2s 4ms/step - loss: 0.0089 - accuracy: 0.9973\n",
      "Epoch 17/30\n",
      "600/600 [==============================] - 2s 4ms/step - loss: 0.0097 - accuracy: 0.9971\n",
      "Epoch 18/30\n",
      "600/600 [==============================] - 2s 4ms/step - loss: 0.0066 - accuracy: 0.9978\n",
      "Epoch 19/30\n",
      "600/600 [==============================] - 2s 3ms/step - loss: 0.0109 - accuracy: 0.9963\n",
      "Epoch 20/30\n",
      "600/600 [==============================] - 2s 4ms/step - loss: 0.0069 - accuracy: 0.9981\n",
      "Epoch 21/30\n",
      "600/600 [==============================] - 2s 4ms/step - loss: 0.0047 - accuracy: 0.9986\n",
      "Epoch 22/30\n",
      "600/600 [==============================] - 2s 4ms/step - loss: 0.0132 - accuracy: 0.9961\n",
      "Epoch 23/30\n",
      "600/600 [==============================] - 2s 3ms/step - loss: 0.0045 - accuracy: 0.9987\n",
      "Epoch 24/30\n",
      "600/600 [==============================] - 2s 4ms/step - loss: 0.0107 - accuracy: 0.9970\n",
      "Epoch 25/30\n",
      "600/600 [==============================] - 2s 4ms/step - loss: 0.0058 - accuracy: 0.9980\n",
      "Epoch 26/30\n",
      "600/600 [==============================] - 2s 4ms/step - loss: 0.0062 - accuracy: 0.9981\n",
      "Epoch 27/30\n",
      "600/600 [==============================] - 2s 4ms/step - loss: 0.0063 - accuracy: 0.9982\n",
      "Epoch 28/30\n",
      "600/600 [==============================] - 2s 4ms/step - loss: 0.0082 - accuracy: 0.9975\n",
      "Epoch 29/30\n",
      "600/600 [==============================] - 2s 4ms/step - loss: 0.0060 - accuracy: 0.9981\n",
      "Epoch 30/30\n",
      "600/600 [==============================] - 2s 4ms/step - loss: 0.0051 - accuracy: 0.9986\n"
     ]
    },
    {
     "output_type": "execute_result",
     "data": {
      "text/plain": [
       "[0.11654726415872574, 0.9797000288963318]"
      ]
     },
     "metadata": {},
     "execution_count": 17
    }
   ],
   "source": [
    "from tensorflow.keras.models import Sequential\n",
    "model = Sequential()\n",
    "model.add(Dense(400,activation='relu'))\n",
    "model.add(Dense(200,activation='relu'))\n",
    "model.add(Dense(100,activation='relu'))\n",
    "model.add(Dense(50,activation='relu'))\n",
    "model.add(Dense(10,activation='softmax'))\n",
    "model.compile(optimizer='adam',loss='categorical_crossentropy',metrics=['accuracy'])\n",
    "model.fit(x_train,t_train,epochs=30,batch_size=100,verbose=1)\n",
    "loss,acc = model.evaluate(x_test,t_test,verbose=0)\n",
    "[loss,acc]"
   ]
  },
  {
   "cell_type": "code",
   "execution_count": 14,
   "metadata": {},
   "outputs": [],
   "source": []
  },
  {
   "cell_type": "code",
   "execution_count": 15,
   "metadata": {},
   "outputs": [
    {
     "output_type": "execute_result",
     "data": {
      "text/plain": [
       "[0.0887715071439743, 0.9718000292778015]"
      ]
     },
     "metadata": {},
     "execution_count": 15
    }
   ],
   "source": []
  },
  {
   "cell_type": "code",
   "execution_count": null,
   "metadata": {},
   "outputs": [],
   "source": []
  }
 ]
}