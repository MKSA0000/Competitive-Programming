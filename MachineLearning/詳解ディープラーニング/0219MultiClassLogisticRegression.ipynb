{
 "metadata": {
  "language_info": {
   "codemirror_mode": {
    "name": "ipython",
    "version": 3
   },
   "file_extension": ".py",
   "mimetype": "text/x-python",
   "name": "python",
   "nbconvert_exporter": "python",
   "pygments_lexer": "ipython3",
   "version": "3.9.0-final"
  },
  "orig_nbformat": 2,
  "kernelspec": {
   "name": "python3",
   "display_name": "Python 3.9.0 64-bit",
   "metadata": {
    "interpreter": {
     "hash": "3c67ec52ed15e0f818407aaecc706382b0f2c1ca12664c8d998db1b3d5d17ce4"
    }
   }
  }
 },
 "nbformat": 4,
 "nbformat_minor": 2,
 "cells": [
  {
   "cell_type": "code",
   "execution_count": 1,
   "metadata": {},
   "outputs": [],
   "source": [
    "import numpy as np\n",
    "from sklearn.utils import shuffle"
   ]
  },
  {
   "cell_type": "code",
   "execution_count": 2,
   "metadata": {},
   "outputs": [],
   "source": [
    "class LogisticRegression:\n",
    "    def __init__(self,input_dim,output_dim):\n",
    "        self.input_dim = input_dim\n",
    "        self.W = np.random.normal(size=(input_dim,output_dim))\n",
    "        self.b = np.zeros(output_dim)\n",
    "\n",
    "    def __call__(self,x):\n",
    "        return self.forward(x)\n",
    "    \n",
    "    def forward(self,x):\n",
    "        return softmax(np.matmul(x,self.W) + self.b)\n",
    "    \n",
    "    def compute_gradients(self,x,t):\n",
    "        y = self.forward(x)\n",
    "        delta = y - t\n",
    "        dW = np.matmul(x.T,delta)\n",
    "        db = np.matmul(np.ones(x.shape[0]),delta)\n",
    "        return dW,db\n",
    "    \n",
    "def softmax(x):\n",
    "    return np.exp(x) / np.sum(np.exp(x), axis=1, keepdims=True)"
   ]
  },
  {
   "cell_type": "code",
   "execution_count": 3,
   "metadata": {},
   "outputs": [],
   "source": [
    "M = 2      # 入力データの次元\n",
    "K = 3      # クラス数\n",
    "n = 100    # クラスごとのデータ数\n",
    "N = n * K  # 全データ数\n",
    "\n",
    "x1 = np.random.randn(n, M) + np.array([0, 10])\n",
    "x2 = np.random.randn(n, M) + np.array([5, 5])\n",
    "x3 = np.random.randn(n, M) + np.array([10, 0])\n",
    "t1 = np.array([[1, 0, 0] for i in range(n)])\n",
    "t2 = np.array([[0, 1, 0] for i in range(n)])\n",
    "t3 = np.array([[0, 0, 1] for i in range(n)])\n",
    "\n",
    "x = np.concatenate((x1, x2, x3), axis=0)\n",
    "t = np.concatenate((t1, t2, t3), axis=0)"
   ]
  },
  {
   "cell_type": "code",
   "execution_count": 4,
   "metadata": {},
   "outputs": [],
   "source": [
    "model = LogisticRegression(input_dim=M,output_dim=K)\n",
    "\n",
    "def compute_loss(t, y):\n",
    "    return (-t * np.log(y)).sum(axis=1).mean()\n",
    "\n",
    "def train_step(x, t):\n",
    "    dW, db = model.compute_gradients(x, t)\n",
    "    model.W = model.W - 0.01 * dW\n",
    "    model.b = model.b - 0.01 * db\n",
    "    loss = compute_loss(t, model(x))\n",
    "    return loss"
   ]
  },
  {
   "cell_type": "code",
   "execution_count": 5,
   "metadata": {},
   "outputs": [
    {
     "output_type": "stream",
     "name": "stdout",
     "text": [
      "epoch: 1 loss 1.8594617041232449\nepoch: 10 loss 0.031951730685898724\n"
     ]
    }
   ],
   "source": [
    "epochs = 10\n",
    "batch_size = 50\n",
    "n_batches = x.shape[0] // batch_size\n",
    "\n",
    "for epoch in range(epochs):\n",
    "    train_loss = 0.\n",
    "    x_,t_ = shuffle(x,t)\n",
    "    for n_batch in range(n_batches):\n",
    "        start = n_batch * batch_size\n",
    "        end = start + batch_size\n",
    "        train_loss += train_step(x_[start:end],t_[start:end])\n",
    "\n",
    "    if(epoch % 10 == 0 or epoch == epochs - 1):\n",
    "        print(f'epoch: {epoch+1} loss {train_loss}')"
   ]
  },
  {
   "cell_type": "code",
   "execution_count": null,
   "metadata": {},
   "outputs": [],
   "source": []
  },
  {
   "cell_type": "code",
   "execution_count": null,
   "metadata": {},
   "outputs": [],
   "source": []
  }
 ]
}